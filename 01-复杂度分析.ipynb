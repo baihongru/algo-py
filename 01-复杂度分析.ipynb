{
    "cells": [
        {
            "cell_type": "markdown",
            "source": [
                "# 什么是复杂度\r\n",
                "\r\n",
                "复杂度是对程序运行的时间和占用的存储空间的概略描述，相对于精确描述，例如程序运行结束后的\r\n",
                "统计信息，概略描述的优势是屏蔽了导致测试差异的因素：测试环境和数据集规模。而为了做概略描\r\n",
                "述，必须做一些假设，即程序运行的每一步拥有相同的运行时间，还必须对累加复杂度的元素做权重\r\n",
                "判断，即n与n+1中，随着n的增大，1的影响逐渐变小，以至于最终消失。一般使用大O表示法描述程\r\n",
                "序的复杂度分析结果，下面使用示例演示复杂度计算的方法。\r\n"
            ],
            "metadata": {}
        },
        {
            "cell_type": "code",
            "execution_count": null,
            "source": [
                "# 求1...n的累加和\r\n",
                "def cal(n) -> int:\r\n",
                "    sum = 0\r\n",
                "    for i in range(1, n + 1):\r\n",
                "        sum = sum + i\r\n",
                "    return sum\r\n",
                "\r\n",
                "# 这是一个更高效的写法\r\n",
                "def calNew(n) -> int:\r\n",
                "    return sum(range(1, n + 1))\r\n",
                "\r\n",
                "print(cal(3), calNew(3))"
            ],
            "outputs": [],
            "metadata": {}
        },
        {
            "cell_type": "markdown",
            "source": [
                "\r\n",
                "QA：\r\n",
                "\r\n",
                "1. 数据集规模为什么会导致测试差异？\r\n"
            ],
            "metadata": {}
        }
    ],
    "metadata": {
        "orig_nbformat": 4,
        "language_info": {
            "name": "python",
            "version": "3.9.6",
            "mimetype": "text/x-python",
            "codemirror_mode": {
                "name": "ipython",
                "version": 3
            },
            "pygments_lexer": "ipython3",
            "nbconvert_exporter": "python",
            "file_extension": ".py"
        },
        "kernelspec": {
            "name": "python3",
            "display_name": "Python 3.9.6 64-bit ('venv': venv)"
        },
        "interpreter": {
            "hash": "f8701b83f8fde03dcbc43dda831859f5daffff7d3bd89925cbe778a9a33f2488"
        }
    },
    "nbformat": 4,
    "nbformat_minor": 2
}