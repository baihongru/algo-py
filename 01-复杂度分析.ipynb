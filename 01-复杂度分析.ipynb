{
    "cells": [
        {
            "cell_type": "markdown",
            "source": [
                "## 什么是复杂度\r\n",
                "\r\n",
                "复杂度是对程序运行的时间和占用的存储空间的概略描述，相对于精确描述，例如程序运行结束后的\r\n",
                "统计信息，概略描述的优势是屏蔽了导致测试差异的因素：测试环境和数据集规模。而为了做概略描\r\n",
                "述，必须做一些假设，即程序运行的每一步拥有相同的运行时间，还必须对累加复杂度的元素做权重\r\n",
                "判断，即n与n+1中，随着n的增大，1的影响逐渐变小，以至于最终消失。一般使用大O表示法描述程\r\n",
                "序的复杂度分析结果，下面使用示例演示复杂度计算的方法。\r\n"
            ],
            "metadata": {}
        },
        {
            "cell_type": "code",
            "execution_count": 5,
            "source": [
                "# 求1...n的累加和\r\n",
                "def cal(n: int) -> int:\r\n",
                "    sum = 0\r\n",
                "    for i in range(1, n + 1):\r\n",
                "        sum = sum + i\r\n",
                "    return sum\r\n",
                "\r\n",
                "# 这是一个更高效的写法，但是它不能很好的达到演示的意图\r\n",
                "def calNew(n: int) -> int:\r\n",
                "    return sum(range(1, n + 1))\r\n",
                "\r\n",
                "print(cal(3), calNew(3))"
            ],
            "outputs": [
                {
                    "output_type": "stream",
                    "name": "stdout",
                    "text": [
                        "6 6\n"
                    ]
                }
            ],
            "metadata": {}
        },
        {
            "cell_type": "markdown",
            "source": [
                "在上述cal函数中，我们假设每一行程序执行的时间为t，则cal的运行总时间为`(1+2n+1)*t=(2n+2)*t`，\r\n",
                "可以看出程序运行时间与每行代码的执行次数成正比，可以很容易的想象一个循环嵌套的函数，它具\r\n",
                "有`(n*m+c)*t`这样的执行时间，当m等于n时，则是`(n^2+c)*t`，由此可以推导出一个关系式\r\n",
                "`T(n)=O(f(n))`，其中T(n)是程序运行时间，f(n)是行代码执行次数，O则引入了我们假设的时间t。\r\n",
                "在相同环境下，程序的执行时间主要由f(n)决定，因此我们可以抽象一下，用O(n)就可以表示程序运\r\n",
                "行时间的趋势，这就是大O表示法，术语叫做渐进时间复杂度，简称时间复杂度。考虑到随n增大，常\r\n",
                "数影响变小的情况，前面提到的复杂度可以表示为O(n)、O(n*m)、O(n^2)，这就显得很熟悉了，在\r\n",
                "Redis文档中随处可见类似的表示。\r\n",
                "\r\n",
                "## 时间复杂度分析\r\n",
                "\r\n",
                "了解了什么是时间复杂度，接下来需要了解面对更加复杂的代码时它的分析方法，有几个原则，实际\r\n",
                "上是对以上描述的简单总结：\r\n",
                "\r\n",
                "1. 只关注循环执行次数最多的一段代码，主要是忽略掉f(n)里面的常量、系数、低阶，关注高阶；\r\n",
                "2. 总复杂度等于量级最大的那段代码的复杂度，也就是在同一段代码中T(n)=O1(n)+O2(n)=max(O1(n),O2(n));\r\n",
                "3. 嵌套代码的复杂度等于嵌套内外代码复杂度的乘积，这点在开始的部分就描述过。\r\n",
                "\r\n",
                "## 常见时间复杂度的分析示例\r\n"
            ],
            "metadata": {}
        },
        {
            "cell_type": "code",
            "execution_count": null,
            "source": [
                "# 常量阶O(1)\r\n",
                "def o1():\r\n",
                "    a = 1\r\n",
                "    b = 2\r\n",
                "    return a + b"
            ],
            "outputs": [],
            "metadata": {}
        },
        {
            "cell_type": "code",
            "execution_count": null,
            "source": [
                "# 对数阶O(logn)和线性对数阶O(nlogn)，涉及的对数部分是较难分析的\r\n",
                "def ologn(n: int):\r\n",
                "    i = 1\r\n",
                "    while i < n:\r\n",
                "        i = i * 2\r\n",
                "# 进行分析时需要进行几次转换，首先i=2^k(k>=0)，那么复杂度分析就是在找满足2^k<n时k的最大\r\n",
                "# 值，即以2为底n的对数，可以表示为log2(n)，根据前面描述的规则，可以简化为O(logn)，\r\n",
                "# 这样O(nlogn)也就不难理解了"
            ],
            "outputs": [],
            "metadata": {}
        },
        {
            "cell_type": "code",
            "execution_count": null,
            "source": [
                "# 二元一次方程特性的复杂度O(m+n)、O(m*n)，这里不再举例"
            ],
            "outputs": [],
            "metadata": {}
        },
        {
            "cell_type": "markdown",
            "source": [
                "除了以上列举的复杂度，还有常见的包括：线性阶O(n)、平方阶O(n^2)、立方阶O(n^3)、k次方阶O(n^k)、\r\n",
                "指数阶O(2^n)、阶乘阶O(n!)，相信大家已经能够辨别各个复杂度的优劣了。\r\n",
                "\r\n",
                "## 空间复杂度分析\r\n",
                "\r\n",
                "与时间复杂度类似，空间复杂度叫做渐进空间复杂度，表示了算法使用的存储空间与数据规模之间的\r\n",
                "关系，通过下面的示例说明：\r\n"
            ],
            "metadata": {}
        },
        {
            "cell_type": "code",
            "execution_count": 6,
            "source": [
                "# 线性阶O(n)\r\n",
                "def on(n: int):\r\n",
                "    # 变量i申请的空间为常数\r\n",
                "    i = 0\r\n",
                "    # 列表a申请的空间为n，注意Python中的列表与类似c的数组实现是不同的\r\n",
                "    a = [x for x in range(n)] # lambda\r\n",
                "    \r\n",
                "    while i < n:\r\n",
                "        a[i] = i * i\r\n",
                "        i += 1\r\n",
                "    \r\n",
                "    i = n - 1\r\n",
                "    while i >= 0:\r\n",
                "        print(a[i])\r\n",
                "        i -= 1\r\n",
                "\r\n",
                "on(3)"
            ],
            "outputs": [
                {
                    "output_type": "stream",
                    "name": "stdout",
                    "text": [
                        "4\n",
                        "1\n",
                        "0\n"
                    ]
                }
            ],
            "metadata": {}
        },
        {
            "cell_type": "markdown",
            "source": [
                "## 评估复杂度分析\r\n",
                "\r\n",
                "复杂度分析的方法已经在上文中描述，但是将理论性能分析的结果直接用于评估实际运行性能还是不\r\n",
                "够准确的，这主要是忽略了数据引入的差异，假如有一个排序算法，它应用于有序数据和无序数据时，\r\n",
                "可能有较大的性能差异，如何更加客观的描述算法的性能？就需要引入几个概念：\r\n",
                "\r\n",
                "1. 最好情况时间复杂度；\r\n",
                "2. 最坏情况时间复杂度；\r\n",
                "3. 平均情况时间复杂度；\r\n",
                "4. 均摊时间复杂度。\r\n",
                "\r\n",
                "通过示例了解最好、最坏和平均情况时间复杂度：\r\n"
            ],
            "metadata": {}
        },
        {
            "cell_type": "code",
            "execution_count": 7,
            "source": [
                "# 找出指定值在列表中位置，不存在时返回-1\r\n",
                "def find (array: list, x: int):\r\n",
                "    pos = -1\r\n",
                "    for i in array:\r\n",
                "        if x == i:\r\n",
                "            pos = i\r\n",
                "    return pos\r\n",
                "\r\n",
                "def new_find(array: list, x: int):\r\n",
                "    pos = -1\r\n",
                "    for i in array:\r\n",
                "        if x == i:\r\n",
                "            pos = i\r\n",
                "            break\r\n",
                "    return pos\r\n",
                "\r\n",
                "#print(find(range(10000), 100))\r\n",
                "#print(new_find(range(10000), 100))"
            ],
            "outputs": [],
            "metadata": {}
        },
        {
            "cell_type": "markdown",
            "source": [
                "假设列表的长度为n，可以看出，在函数find中，会遍历列表后返回结果，它的时间复杂度在任何情\r\n",
                "况下都为O(n)，而new_find函数，它在遍历到目标位置后就会立即返回，那么面对同样的n，在x\r\n",
                "不同时就会有n=1或者n=10000这样相差巨大的结果，该如何评估这类程序的性能呢？这里引入了最好\r\n",
                "情况时间复杂度对应n=1的情况，即O(1)，最坏情况时间复杂度对应n=10000的情况，即O(n)，到现\r\n",
                "在为止只能得出一个评估的结果：时好时坏，这是不能作为答案的，因此又引入了平均情况时间复杂\r\n",
                "度的概念，通过概率去描述这种时好时坏的情况，具体的手段是\r\n",
                "[期望值](https://baike.baidu.com/item/%E6%95%B0%E5%AD%A6%E6%9C%9F%E6%9C%9B)，它反\r\n",
                "映随机变量（程序执行次数）平均取值的大小，计算方法是每次可能结果的概率乘以其结果的总和，\r\n",
                "那么，根据程序执行n次能够得出目标位置为x（在序列中）或-1（不在序列中）可以导出：\r\n",
                "`1/2*n + 1/2*n`，再根据目标出现在序列中某一位置的概率为`1/n`可以导出：\r\n",
                "`(1/2)*(1/n)*1 + (1/2)*(1/n)*2 + ... + (1/2)*(1/n)*n + 1/2*n`，进一步计算：\r\n",
                "`1/2n*(1+2+...+n) + 1/2*n`，简单起见假设n为奇数，计算得`(3n+1)/4`，通过前面提到的分析\r\n",
                "原则可以得到new_find函数的平均情况时间复杂度为O(n)，绕一大圈得到相同的结果，实际上这三个\r\n",
                "指标只用在关注相同代码面对不同数据时复杂度出现数量级差异的情况，了解到这一点就好。\r\n",
                "\r\n",
                "通过示例了解均摊时间复杂度：\r\n"
            ],
            "metadata": {}
        },
        {
            "cell_type": "code",
            "execution_count": 8,
            "source": [
                "# 向数组中插入数据，如果数组已满，则将数组中的值求和后写到数组第一个位置，释放空间\r\n",
                "array = [x for x in range(10)]\r\n",
                "offset = 0\r\n",
                "\r\n",
                "def insert(val: int):\r\n",
                "    global offset # 主要由于Python缺少声明语法引起，见注1\r\n",
                "    if offset == len(array):\r\n",
                "        sum = 0\r\n",
                "        for i in array:\r\n",
                "            sum += i\r\n",
                "        array[0] = sum\r\n",
                "        offset = 1\r\n",
                "    array[offset] = val\r\n",
                "    offset += 1\r\n",
                "\r\n",
                "for i in range(11):\r\n",
                "    insert(i)\r\n",
                "print(array)\r\n",
                "\r\n",
                "# 注1：[名称的解析](https://docs.python.org/zh-cn/3/reference/executionmodel.html#resolution-of-names)"
            ],
            "outputs": [
                {
                    "output_type": "stream",
                    "name": "stdout",
                    "text": [
                        "[45, 10, 2, 3, 4, 5, 6, 7, 8, 9]\n"
                    ]
                }
            ],
            "metadata": {}
        },
        {
            "cell_type": "markdown",
            "source": [
                "上述insert函数的执行过程存在一个有趣的情况，假如横轴为时间，纵轴为一次调用执行的代码数量，\r\n",
                "它的形状是这样的：____-____-____，现在就可以这样理解均摊时间复杂度，把短线代表的高次数均\r\n",
                "摊到长线代表的低次数上，以均摊后的情况评估代码在一段时间内的总执行次数，显然这更加接近长\r\n",
                "线代表的部分，也就是O(1)，实际上通过上面提到的概率解法能计算出insert函数的平均情况时间复\r\n",
                "杂度为O(1)：`1/(n+1)*1 + 1/(n+1)*n = 1`，但是均摊时间复杂度分析更为简单，对比new_find\r\n",
                "和insert两个函数：\r\n",
                "\r\n",
                "1. new_find面对不同的数据集时表现出极端的复杂度差异O(1)和O(n)；\r\n",
                "2. insert的复杂度差异O(1)和O(n)是蕴含在算法中的，随着时间交替出现；\r\n",
                "\r\n",
                "可以看出能够应用均摊分析的场景特征。\r\n",
                "\r\n",
                "## 总结\r\n",
                "\r\n",
                "1. 对于代码段，复杂度分析是很好的评估代码性能的方法；\r\n",
                "2. 养成复杂度分析的习惯能够促进算法方面的思考。\r\n"
            ],
            "metadata": {}
        },
        {
            "cell_type": "markdown",
            "source": [
                "\r\n",
                "## Q&A：\r\n",
                "\r\n",
                "无\r\n"
            ],
            "metadata": {}
        }
    ],
    "metadata": {
        "orig_nbformat": 4,
        "language_info": {
            "name": "python",
            "version": "3.9.6",
            "mimetype": "text/x-python",
            "codemirror_mode": {
                "name": "ipython",
                "version": 3
            },
            "pygments_lexer": "ipython3",
            "nbconvert_exporter": "python",
            "file_extension": ".py"
        },
        "kernelspec": {
            "name": "python3",
            "display_name": "Python 3.9.6 64-bit ('venv': venv)"
        },
        "interpreter": {
            "hash": "f8701b83f8fde03dcbc43dda831859f5daffff7d3bd89925cbe778a9a33f2488"
        }
    },
    "nbformat": 4,
    "nbformat_minor": 2
}