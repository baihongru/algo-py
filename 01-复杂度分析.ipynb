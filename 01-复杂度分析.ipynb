{
    "cells": [
        {
            "cell_type": "markdown",
            "source": [
                "## 什么是复杂度\r\n",
                "\r\n",
                "复杂度是对程序运行的时间和占用的存储空间的概略描述，相对于精确描述，例如程序运行结束后的\r\n",
                "统计信息，概略描述的优势是屏蔽了导致测试差异的因素：测试环境和数据集规模。而为了做概略描\r\n",
                "述，必须做一些假设，即程序运行的每一步拥有相同的运行时间，还必须对累加复杂度的元素做权重\r\n",
                "判断，即n与n+1中，随着n的增大，1的影响逐渐变小，以至于最终消失。一般使用大O表示法描述程\r\n",
                "序的复杂度分析结果，下面使用示例演示复杂度计算的方法。\r\n"
            ],
            "metadata": {}
        },
        {
            "cell_type": "code",
            "execution_count": null,
            "source": [
                "# 求1...n的累加和\r\n",
                "def cal(n:int) -> int:\r\n",
                "    sum = 0\r\n",
                "    for i in range(1, n + 1):\r\n",
                "        sum = sum + i\r\n",
                "    return sum\r\n",
                "\r\n",
                "# 这是一个更高效的写法，但是它不能很好的达到演示的意图\r\n",
                "def calNew(n:int) -> int:\r\n",
                "    return sum(range(1, n + 1))\r\n",
                "\r\n",
                "print(cal(3), calNew(3))"
            ],
            "outputs": [],
            "metadata": {}
        },
        {
            "cell_type": "markdown",
            "source": [
                "在上述cal函数中，我们假设每一行程序执行的时间为t，则cal的运行总时间为`(1+2n+1)*t=(2n+2)*t`，\r\n",
                "可以看出程序运行时间与每行代码的执行次数成正比，可以很容易的想象一个循环嵌套的函数，它具\r\n",
                "有`(n*m+c)*t`这样的执行时间，当m等于n时，则是`(n^2+c)*t`，由此可以推导出一个关系式\r\n",
                "`T(n)=O(f(n))`，其中T(n)是程序运行时间，f(n)是行代码执行次数，O则引入了我们假设的时间t。\r\n",
                "在相同环境下，程序的执行时间主要由f(n)决定，因此我们可以抽象一下，用O(n)就可以表示程序运\r\n",
                "行时间的趋势，这就是大O表示法，术语叫做渐进时间复杂度，简称时间复杂度。考虑到随n增大，常\r\n",
                "数影响变小的情况，前面提到的复杂度可以表示为O(n)、O(n*m)、O(n^2)，这就显得很熟悉了，在\r\n",
                "Redis文档中随处可见类似的表示。\r\n",
                "\r\n",
                "## 时间复杂度分析\r\n",
                "\r\n",
                "了解了什么是时间复杂度，接下来需要了解面对更加复杂的代码时它的分析方法，有几个原则，实际\r\n",
                "上是对以上描述的简单总结：\r\n",
                "\r\n",
                "1. 只关注循环执行次数最多的一段代码，主要是忽略掉f(n)里面的常量、系数、低阶，关注高阶；\r\n",
                "2. 总复杂度等于量级最大的那段代码的复杂度，也就是在同一段代码中T(n)=O1(n)+O2(n)=max(O1(n),O2(n));\r\n",
                "3. 嵌套代码的复杂度等于嵌套内外代码复杂度的乘积，这点在开始的部分就描述过。\r\n",
                "\r\n",
                "## 常见时间复杂度的分析示例\r\n"
            ],
            "metadata": {}
        },
        {
            "cell_type": "code",
            "execution_count": null,
            "source": [
                "# 常量阶O(1)\r\n",
                "def o1():\r\n",
                "    a = 1\r\n",
                "    b = 2\r\n",
                "    return a + b"
            ],
            "outputs": [],
            "metadata": {}
        },
        {
            "cell_type": "code",
            "execution_count": null,
            "source": [
                "# 对数阶O(logn)和线性对数阶O(nlogn)，涉及的对数部分是较难分析的\r\n",
                "def ologn(n:int):\r\n",
                "    i = 1\r\n",
                "    while i < n:\r\n",
                "        i = i * 2\r\n",
                "# 进行分析时需要进行几次转换，首先i=2^k(k>=0)，那么复杂度分析就是在找满足2^k<n时k的最大\r\n",
                "# 值，即以2为底n的对数，可以表示为log2(n)，根据前面描述的规则，可以简化为O(logn)，\r\n",
                "# 这样O(nlogn)也就不难理解了"
            ],
            "outputs": [],
            "metadata": {}
        },
        {
            "cell_type": "code",
            "execution_count": null,
            "source": [
                "# 二元一次方程特性的复杂度O(m+n)、O(m*n)，这里不再举例"
            ],
            "outputs": [],
            "metadata": {}
        },
        {
            "cell_type": "markdown",
            "source": [
                "除了以上列举的复杂度，还有常见的包括：线性阶O(n)、平方阶O(n^2)、立方阶O(n^3)、k次方阶O(n^k)、\r\n",
                "指数阶O(2^n)、阶乘阶O(n!)，相信大家已经能够辨别各个复杂度的优劣了。\r\n",
                "\r\n",
                "## 空间复杂度分析\r\n",
                "\r\n",
                "与时间复杂度类似，空间复杂度叫做渐进空间复杂度，表示了算法使用的存储空间与数据规模之间的\r\n",
                "关系，通过下面的示例说明：\r\n"
            ],
            "metadata": {}
        },
        {
            "cell_type": "code",
            "execution_count": null,
            "source": [
                "# 线性阶O(n)\r\n",
                "def on(n:int):\r\n",
                "    # 变量i申请的空间为常数\r\n",
                "    i = 0\r\n",
                "    # 列表a申请的空间为n，注意Python中的列表与类似c的数组实现是不同的\r\n",
                "    a = [x for x in range(n)]\r\n",
                "    \r\n",
                "    while i < n:\r\n",
                "        a[i] = i * i\r\n",
                "        i += 1\r\n",
                "    \r\n",
                "    i = n - 1\r\n",
                "    while i >= 0:\r\n",
                "        print(a[i])\r\n",
                "        i -= 1\r\n",
                "\r\n",
                "on(3)"
            ],
            "outputs": [],
            "metadata": {}
        },
        {
            "cell_type": "markdown",
            "source": [
                "\r\n",
                "Q&A：\r\n",
                "\r\n",
                "1. 数据集规模为什么会导致测试差异？\r\n"
            ],
            "metadata": {}
        },
        {
            "cell_type": "code",
            "execution_count": null,
            "source": [],
            "outputs": [],
            "metadata": {}
        }
    ],
    "metadata": {
        "orig_nbformat": 4,
        "language_info": {
            "name": "python",
            "version": "3.9.6",
            "mimetype": "text/x-python",
            "codemirror_mode": {
                "name": "ipython",
                "version": 3
            },
            "pygments_lexer": "ipython3",
            "nbconvert_exporter": "python",
            "file_extension": ".py"
        },
        "kernelspec": {
            "name": "python3",
            "display_name": "Python 3.9.6 64-bit ('venv': venv)"
        },
        "interpreter": {
            "hash": "f8701b83f8fde03dcbc43dda831859f5daffff7d3bd89925cbe778a9a33f2488"
        }
    },
    "nbformat": 4,
    "nbformat_minor": 2
}